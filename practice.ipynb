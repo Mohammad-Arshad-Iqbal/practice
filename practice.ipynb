{
 "cells": [
  {
   "cell_type": "code",
   "execution_count": 1,
   "id": "7c55341c",
   "metadata": {},
   "outputs": [
    {
     "name": "stdout",
     "output_type": "stream",
     "text": [
      "my name is arshad iqbal\n",
      "hpw are you \n",
      "this is the file operation \n",
      "i will complete it than taka a rest\n"
     ]
    }
   ],
   "source": [
    "with open('temp.txt','r') as file:\n",
    "    content=file.read()\n",
    "    print(content)"
   ]
  },
  {
   "cell_type": "code",
   "execution_count": 3,
   "id": "711f633e",
   "metadata": {},
   "outputs": [
    {
     "name": "stdout",
     "output_type": "stream",
     "text": [
      "my name is arshad iqbal\n",
      "hpw are you\n",
      "this is the file operation\n",
      "i will complete it than taka a rest\n"
     ]
    }
   ],
   "source": [
    "with open('temp.txt','r') as file:\n",
    "    for line in file:\n",
    "        print(line.strip())"
   ]
  },
  {
   "cell_type": "code",
   "execution_count": 4,
   "id": "afcf0ab7",
   "metadata": {},
   "outputs": [],
   "source": [
    "with open('temp.txt','w') as file:\n",
    "    file.write(\"hello i just owerwitr the content \\n\")\n",
    "    file.write(\"this is the second line \\n\")\n",
    "    file.write(\"thsi is the third line\")"
   ]
  },
  {
   "cell_type": "code",
   "execution_count": 6,
   "id": "f58b33ef",
   "metadata": {},
   "outputs": [],
   "source": [
    "with open('temp.txt','a') as file:\n",
    "    file.write(\"\\nappedn opertaion taking place\\n\")\n",
    "    file.write('this is 5th line from append')"
   ]
  },
  {
   "cell_type": "code",
   "execution_count": 7,
   "id": "322c27c4",
   "metadata": {},
   "outputs": [],
   "source": [
    "lines=[\"first line\\n\",'second line\\n','thisrd line\\n']\n",
    "with open('temp.txt','a') as file:\n",
    "    file.writelines(lines)"
   ]
  },
  {
   "cell_type": "code",
   "execution_count": 1,
   "id": "b8b3bfdb",
   "metadata": {},
   "outputs": [],
   "source": [
    "with open(\"temp.txt\",\"r\") as file:\n",
    "    content=file.read()\n",
    "\n",
    "with open(\"destination.txt\",\"w\") as file2:\n",
    "    file2.write(content)"
   ]
  },
  {
   "cell_type": "code",
   "execution_count": 9,
   "id": "7766cd8e",
   "metadata": {},
   "outputs": [
    {
     "name": "stdout",
     "output_type": "stream",
     "text": [
      "character:'a' and its frequency in file is 7\n",
      "\n",
      "character:'G' and its frequency in file is 2\n",
      "\n",
      "character:'7' and its frequency in file is 19\n",
      "\n",
      "character:'$' and its frequency in file is 4\n",
      "\n",
      "character:'2' and its frequency in file is 17\n",
      "\n",
      "character:'f' and its frequency in file is 1\n",
      "\n",
      "character:' ' and its frequency in file is 59\n",
      "\n",
      "character:'K' and its frequency in file is 17\n",
      "\n",
      "character:'@' and its frequency in file is 25\n",
      "\n",
      "character:'9' and its frequency in file is 19\n",
      "\n",
      "character:'r' and its frequency in file is 7\n",
      "\n",
      "character:'J' and its frequency in file is 8\n",
      "\n",
      "character:'^' and its frequency in file is 26\n",
      "\n",
      "character:'z' and its frequency in file is 27\n",
      "\n",
      "character:'X' and its frequency in file is 9\n",
      "\n",
      "character:'#' and its frequency in file is 30\n",
      "\n",
      "character:'m' and its frequency in file is 4\n",
      "\n",
      "character:'1' and its frequency in file is 5\n",
      "\n",
      "character:'p' and its frequency in file is 12\n",
      "\n",
      "character:'!' and its frequency in file is 44\n",
      "\n",
      "character:'L' and its frequency in file is 16\n",
      "\n",
      "character:'q' and its frequency in file is 14\n",
      "\n",
      "character:'e' and its frequency in file is 7\n",
      "\n",
      "character:'P' and its frequency in file is 16\n",
      "\n",
      "character:'x' and its frequency in file is 18\n",
      "\n",
      "character:'5' and its frequency in file is 7\n",
      "\n",
      "character:'&' and its frequency in file is 2\n",
      "\n",
      "character:'R' and its frequency in file is 21\n",
      "\n",
      "character:'v' and its frequency in file is 8\n",
      "\n",
      "character:'b' and its frequency in file is 9\n",
      "\n",
      "character:'F' and its frequency in file is 3\n",
      "\n",
      "character:'W' and its frequency in file is 9\n",
      "\n",
      "character:'Q' and its frequency in file is 9\n",
      "\n",
      "character:'k' and its frequency in file is 1\n",
      "\n",
      "character:'E' and its frequency in file is 2\n",
      "\n",
      "character:'T' and its frequency in file is 14\n",
      "\n",
      "character:'V' and its frequency in file is 4\n",
      "\n",
      "character:'c' and its frequency in file is 2\n",
      "\n",
      "character:'3' and its frequency in file is 15\n",
      "\n",
      "character:'M' and its frequency in file is 4\n",
      "\n",
      "character:'8' and its frequency in file is 8\n",
      "\n",
      "character:'*' and its frequency in file is 1\n",
      "\n",
      "character:'j' and its frequency in file is 4\n",
      "\n",
      "character:'\\n' and its frequency in file is 10\n",
      "\n",
      "character:'C' and its frequency in file is 1\n",
      "\n",
      "character:'Z' and its frequency in file is 5\n",
      "\n",
      "character:'w' and its frequency in file is 6\n",
      "\n",
      "character:'t' and its frequency in file is 2\n",
      "\n",
      "character:'Y' and its frequency in file is 11\n",
      "\n",
      "character:'6' and its frequency in file is 5\n",
      "\n",
      "character:'A' and its frequency in file is 2\n",
      "\n",
      "character:'H' and its frequency in file is 1\n",
      "\n",
      "character:'4' and its frequency in file is 7\n",
      "\n",
      "character:'D' and its frequency in file is 1\n",
      "\n",
      "character:'o' and its frequency in file is 2\n",
      "\n",
      "character:'N' and its frequency in file is 3\n",
      "\n",
      "character:'u' and its frequency in file is 1\n",
      "\n",
      "character:'d' and its frequency in file is 2\n",
      "\n",
      "character:'B' and its frequency in file is 3\n",
      "\n",
      "character:'g' and its frequency in file is 1\n",
      "\n",
      "character:'n' and its frequency in file is 1\n",
      "\n",
      "character:'h' and its frequency in file is 2\n",
      "\n",
      "character:'y' and its frequency in file is 2\n",
      "\n",
      "character:'\\\\' and its frequency in file is 5\n",
      "\n"
     ]
    }
   ],
   "source": [
    "with open(\"temp.txt\",\"r\") as file:\n",
    "    content =file.read()\n",
    "    lis=list(content)\n",
    "    my_dict={}\n",
    "    for x in lis:\n",
    "        if x in my_dict.keys():\n",
    "            my_dict[x]+=1\n",
    "        else:\n",
    "            my_dict[x]=1\n",
    "\n",
    "for key,value in my_dict.items():\n",
    "    print(f\"character:{key!r}\\\n",
    " and its frequency in file is {value}\\n\")"
   ]
  },
  {
   "cell_type": "code",
   "execution_count": null,
   "id": "559d412c",
   "metadata": {},
   "outputs": [],
   "source": []
  }
 ],
 "metadata": {
  "kernelspec": {
   "display_name": "Python 3",
   "language": "python",
   "name": "python3"
  },
  "language_info": {
   "codemirror_mode": {
    "name": "ipython",
    "version": 3
   },
   "file_extension": ".py",
   "mimetype": "text/x-python",
   "name": "python",
   "nbconvert_exporter": "python",
   "pygments_lexer": "ipython3",
   "version": "3.12.0"
  }
 },
 "nbformat": 4,
 "nbformat_minor": 5
}
